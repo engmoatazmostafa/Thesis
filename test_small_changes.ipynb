{
  "nbformat": 4,
  "nbformat_minor": 0,
  "metadata": {
    "colab": {
      "provenance": [],
      "toc_visible": true
    },
    "kernelspec": {
      "name": "python3",
      "display_name": "Python 3"
    },
    "language_info": {
      "name": "python"
    }
  },
  "cells": [
    {
      "cell_type": "code",
      "execution_count": 1,
      "metadata": {
        "colab": {
          "base_uri": "https://localhost:8080/",
          "height": 219
        },
        "id": "PXQTG-dofl5S",
        "outputId": "e871cd56-270e-4e98-b7a1-c76655b4502a"
      },
      "outputs": [
        {
          "output_type": "error",
          "ename": "NameError",
          "evalue": "name 'google' is not defined",
          "traceback": [
            "\u001b[0;31m---------------------------------------------------------------------------\u001b[0m",
            "\u001b[0;31mNameError\u001b[0m                                 Traceback (most recent call last)",
            "\u001b[0;32m<ipython-input-1-8fd76d17925c>\u001b[0m in \u001b[0;36m<cell line: 0>\u001b[0;34m()\u001b[0m\n\u001b[1;32m      3\u001b[0m \u001b[0;34m\u001b[0m\u001b[0m\n\u001b[1;32m      4\u001b[0m \u001b[0;31m# 1. Get the notebook's path\u001b[0m\u001b[0;34m\u001b[0m\u001b[0;34m\u001b[0m\u001b[0m\n\u001b[0;32m----> 5\u001b[0;31m \u001b[0mnotebook_path\u001b[0m \u001b[0;34m=\u001b[0m \u001b[0mgoogle\u001b[0m\u001b[0;34m.\u001b[0m\u001b[0mcolab\u001b[0m\u001b[0;34m.\u001b[0m\u001b[0mdrive\u001b[0m\u001b[0;34m.\u001b[0m\u001b[0m_mount\u001b[0m\u001b[0;34m.\u001b[0m\u001b[0m_Mount\u001b[0m\u001b[0;34m.\u001b[0m\u001b[0mcurrent_path\u001b[0m\u001b[0;34m(\u001b[0m\u001b[0;34m)\u001b[0m\u001b[0;34m\u001b[0m\u001b[0;34m\u001b[0m\u001b[0m\n\u001b[0m\u001b[1;32m      6\u001b[0m \u001b[0;34m\u001b[0m\u001b[0m\n\u001b[1;32m      7\u001b[0m \u001b[0;31m# 2. Construct the relative path\u001b[0m\u001b[0;34m\u001b[0m\u001b[0;34m\u001b[0m\u001b[0m\n",
            "\u001b[0;31mNameError\u001b[0m: name 'google' is not defined"
          ]
        }
      ],
      "source": [
        "from google.colab import drive\n",
        "import os\n",
        "\n",
        "# 1. Get the notebook's path\n",
        "notebook_path = google.colab.drive._mount._Mount.current_path()\n",
        "\n",
        "# 2. Construct the relative path\n",
        "# Assuming your data is in a folder named 'Datasets' at the same level as the notebook\n",
        "data_folder = os.path.join(os.path.dirname(notebook_path), 'Datasets')\n",
        "\n",
        "# 3. Mount the relevant folder\n",
        "drive.mount('/content/drive', force_remount=True)  # Force remount to ensure correct path\n",
        "\n",
        "# Now you can access files using the mounted path\n",
        "data_path = os.path.join('/content/drive/My Drive', data_folder.replace(os.path.expanduser('~'), ''))\n",
        "data = pd.read_csv(data_path, header=None, names=column_names, na_values=\"?\")"
      ]
    }
  ]
}