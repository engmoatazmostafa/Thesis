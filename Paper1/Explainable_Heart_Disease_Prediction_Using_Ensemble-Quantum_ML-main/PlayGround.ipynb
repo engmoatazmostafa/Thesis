{
  "cells": [
    {
      "cell_type": "code",
      "source": [
        "# !pip install qiskit[visualization]\n",
        "# !pip show qiskit-terra\n",
        "# !pip install --upgrade qiskit-terra\n",
        "#!pip install \"qiskit==0.43.2\"\n",
        "# !pip install qiskit[circuit]\n",
        "#!pip install --upgrade qiskit[circuit]\n",
        "!pip uninstall qiskit -y\n",
        "\n",
        "\n",
        "!pip install qiskit\n",
        "!pip install qiskit-terra==0.24.1\n",
        "!pip show qiskit\n",
        "!pip show qiskit-terra\n",
        "#!pip install --upgrade qiskit[circuit]"
      ],
      "metadata": {
        "colab": {
          "base_uri": "https://localhost:8080/"
        },
        "id": "FjsvaiWWPKfd",
        "outputId": "1194129c-452f-480c-dfb9-255c12a3e116"
      },
      "execution_count": 12,
      "outputs": [
        {
          "output_type": "stream",
          "name": "stdout",
          "text": [
            "Found existing installation: qiskit 2.0.0\n",
            "Uninstalling qiskit-2.0.0:\n",
            "  Successfully uninstalled qiskit-2.0.0\n",
            "Collecting qiskit\n",
            "  Using cached qiskit-2.0.0-cp39-abi3-manylinux_2_17_x86_64.manylinux2014_x86_64.whl.metadata (12 kB)\n",
            "Requirement already satisfied: rustworkx>=0.15.0 in /usr/local/lib/python3.11/dist-packages (from qiskit) (0.16.0)\n",
            "Requirement already satisfied: numpy<3,>=1.17 in /usr/local/lib/python3.11/dist-packages (from qiskit) (1.23.5)\n",
            "Requirement already satisfied: scipy>=1.5 in /usr/local/lib/python3.11/dist-packages (from qiskit) (1.14.1)\n",
            "Requirement already satisfied: sympy>=1.3 in /usr/local/lib/python3.11/dist-packages (from qiskit) (1.13.1)\n",
            "Requirement already satisfied: dill>=0.3 in /usr/local/lib/python3.11/dist-packages (from qiskit) (0.3.9)\n",
            "Requirement already satisfied: python-dateutil>=2.8.0 in /usr/local/lib/python3.11/dist-packages (from qiskit) (2.8.2)\n",
            "Requirement already satisfied: stevedore>=3.0.0 in /usr/local/lib/python3.11/dist-packages (from qiskit) (5.4.1)\n",
            "Requirement already satisfied: typing-extensions in /usr/local/lib/python3.11/dist-packages (from qiskit) (4.13.1)\n",
            "Collecting symengine<0.14,>=0.11 (from qiskit)\n",
            "  Using cached symengine-0.13.0-cp311-cp311-manylinux_2_17_x86_64.manylinux2014_x86_64.whl.metadata (1.2 kB)\n",
            "Requirement already satisfied: six>=1.5 in /usr/local/lib/python3.11/dist-packages (from python-dateutil>=2.8.0->qiskit) (1.17.0)\n",
            "Requirement already satisfied: pbr>=2.0.0 in /usr/local/lib/python3.11/dist-packages (from stevedore>=3.0.0->qiskit) (6.1.1)\n",
            "Requirement already satisfied: mpmath<1.4,>=1.1.0 in /usr/local/lib/python3.11/dist-packages (from sympy>=1.3->qiskit) (1.3.0)\n",
            "Requirement already satisfied: setuptools in /usr/local/lib/python3.11/dist-packages (from pbr>=2.0.0->stevedore>=3.0.0->qiskit) (75.2.0)\n",
            "Using cached qiskit-2.0.0-cp39-abi3-manylinux_2_17_x86_64.manylinux2014_x86_64.whl (6.5 MB)\n",
            "Using cached symengine-0.13.0-cp311-cp311-manylinux_2_17_x86_64.manylinux2014_x86_64.whl (49.7 MB)\n",
            "Installing collected packages: symengine, qiskit\n",
            "  Attempting uninstall: symengine\n",
            "    Found existing installation: symengine 0.9.2\n",
            "    Uninstalling symengine-0.9.2:\n",
            "      Successfully uninstalled symengine-0.9.2\n",
            "\u001b[31mERROR: pip's dependency resolver does not currently take into account all the packages that are installed. This behaviour is the source of the following dependency conflicts.\n",
            "qiskit-terra 0.24.1 requires symengine<0.10,>=0.9; platform_machine == \"x86_64\" or platform_machine == \"aarch64\" or platform_machine == \"ppc64le\" or platform_machine == \"amd64\" or platform_machine == \"arm64\", but you have symengine 0.13.0 which is incompatible.\u001b[0m\u001b[31m\n",
            "\u001b[0mSuccessfully installed qiskit-2.0.0 symengine-0.13.0\n",
            "Requirement already satisfied: qiskit-terra==0.24.1 in /usr/local/lib/python3.11/dist-packages (0.24.1)\n",
            "Requirement already satisfied: rustworkx>=0.12.0 in /usr/local/lib/python3.11/dist-packages (from qiskit-terra==0.24.1) (0.16.0)\n",
            "Requirement already satisfied: numpy>=1.17 in /usr/local/lib/python3.11/dist-packages (from qiskit-terra==0.24.1) (1.23.5)\n",
            "Requirement already satisfied: ply>=3.10 in /usr/local/lib/python3.11/dist-packages (from qiskit-terra==0.24.1) (3.11)\n",
            "Requirement already satisfied: psutil>=5 in /usr/local/lib/python3.11/dist-packages (from qiskit-terra==0.24.1) (5.9.5)\n",
            "Requirement already satisfied: scipy>=1.5 in /usr/local/lib/python3.11/dist-packages (from qiskit-terra==0.24.1) (1.14.1)\n",
            "Requirement already satisfied: sympy>=1.3 in /usr/local/lib/python3.11/dist-packages (from qiskit-terra==0.24.1) (1.13.1)\n",
            "Requirement already satisfied: dill>=0.3 in /usr/local/lib/python3.11/dist-packages (from qiskit-terra==0.24.1) (0.3.9)\n",
            "Requirement already satisfied: python-dateutil>=2.8.0 in /usr/local/lib/python3.11/dist-packages (from qiskit-terra==0.24.1) (2.8.2)\n",
            "Requirement already satisfied: stevedore>=3.0.0 in /usr/local/lib/python3.11/dist-packages (from qiskit-terra==0.24.1) (5.4.1)\n",
            "Collecting symengine<0.10,>=0.9 (from qiskit-terra==0.24.1)\n",
            "  Using cached symengine-0.9.2-cp311-cp311-manylinux_2_12_x86_64.manylinux2010_x86_64.whl.metadata (1.1 kB)\n",
            "Requirement already satisfied: six>=1.5 in /usr/local/lib/python3.11/dist-packages (from python-dateutil>=2.8.0->qiskit-terra==0.24.1) (1.17.0)\n",
            "Requirement already satisfied: pbr>=2.0.0 in /usr/local/lib/python3.11/dist-packages (from stevedore>=3.0.0->qiskit-terra==0.24.1) (6.1.1)\n",
            "Requirement already satisfied: mpmath<1.4,>=1.1.0 in /usr/local/lib/python3.11/dist-packages (from sympy>=1.3->qiskit-terra==0.24.1) (1.3.0)\n",
            "Requirement already satisfied: setuptools in /usr/local/lib/python3.11/dist-packages (from pbr>=2.0.0->stevedore>=3.0.0->qiskit-terra==0.24.1) (75.2.0)\n",
            "Using cached symengine-0.9.2-cp311-cp311-manylinux_2_12_x86_64.manylinux2010_x86_64.whl (38.6 MB)\n",
            "Installing collected packages: symengine\n",
            "  Attempting uninstall: symengine\n",
            "    Found existing installation: symengine 0.13.0\n",
            "    Uninstalling symengine-0.13.0:\n",
            "      Successfully uninstalled symengine-0.13.0\n",
            "\u001b[31mERROR: pip's dependency resolver does not currently take into account all the packages that are installed. This behaviour is the source of the following dependency conflicts.\n",
            "qiskit 2.0.0 requires symengine<0.14,>=0.11, but you have symengine 0.9.2 which is incompatible.\u001b[0m\u001b[31m\n",
            "\u001b[0mSuccessfully installed symengine-0.9.2\n",
            "Name: qiskit\n",
            "Version: 2.0.0\n",
            "Summary: An open-source SDK for working with quantum computers at the level of extended quantum circuits, operators, and primitives.\n",
            "Home-page: https://www.ibm.com/quantum/qiskit\n",
            "Author: \n",
            "Author-email: Qiskit Development Team <qiskit@us.ibm.com>\n",
            "License: Apache 2.0\n",
            "Location: /usr/local/lib/python3.11/dist-packages\n",
            "Requires: dill, numpy, python-dateutil, rustworkx, scipy, stevedore, symengine, sympy, typing-extensions\n",
            "Required-by: \n",
            "Name: qiskit-terra\n",
            "Version: 0.24.1\n",
            "Summary: Software for developing quantum computing programs\n",
            "Home-page: https://github.com/Qiskit/qiskit-terra\n",
            "Author: Qiskit Development Team\n",
            "Author-email: hello@qiskit.org\n",
            "License: Apache 2.0\n",
            "Location: /usr/local/lib/python3.11/dist-packages\n",
            "Requires: dill, numpy, ply, psutil, python-dateutil, rustworkx, scipy, stevedore, symengine, sympy\n",
            "Required-by: qiskit-aer, qiskit-ibmq-provider\n"
          ]
        }
      ]
    },
    {
      "cell_type": "code",
      "execution_count": 11,
      "metadata": {
        "colab": {
          "base_uri": "https://localhost:8080/",
          "height": 598
        },
        "id": "NuMgeDm7OaH6",
        "outputId": "79a8f7a2-d43e-44fb-a1bf-f98a5bfa060c"
      },
      "outputs": [
        {
          "output_type": "error",
          "ename": "ImportError",
          "evalue": "Qiskit is installed in an invalid environment that has both Qiskit >=1.0 and an earlier version. You should create a new virtual environment, and ensure that you do not mix dependencies between Qiskit <1.0 and >=1.0. Any packages that depend on 'qiskit-terra' are not compatible with Qiskit 1.0 and will need to be updated. Qiskit unfortunately cannot enforce this requirement during environment resolution. See https://qisk.it/packaging-1-0 for more detail.",
          "traceback": [
            "\u001b[0;31m---------------------------------------------------------------------------\u001b[0m",
            "\u001b[0;31mImportError\u001b[0m                               Traceback (most recent call last)",
            "\u001b[0;32m<ipython-input-11-356c38febbd3>\u001b[0m in \u001b[0;36m<cell line: 0>\u001b[0;34m()\u001b[0m\n\u001b[1;32m     23\u001b[0m \u001b[0;31m#qiskit\u001b[0m\u001b[0;34m\u001b[0m\u001b[0;34m\u001b[0m\u001b[0m\n\u001b[1;32m     24\u001b[0m \u001b[0;31m#from qiskit import *\u001b[0m\u001b[0;34m\u001b[0m\u001b[0;34m\u001b[0m\u001b[0m\n\u001b[0;32m---> 25\u001b[0;31m \u001b[0;32mfrom\u001b[0m \u001b[0mqiskit\u001b[0m \u001b[0;32mimport\u001b[0m \u001b[0mQuantumCircuit\u001b[0m\u001b[0;34m,\u001b[0m \u001b[0mClassicalRegister\u001b[0m\u001b[0;34m,\u001b[0m \u001b[0mQuantumRegister\u001b[0m\u001b[0;34m\u001b[0m\u001b[0;34m\u001b[0m\u001b[0m\n\u001b[0m\u001b[1;32m     26\u001b[0m \u001b[0;32mfrom\u001b[0m \u001b[0mqiskit\u001b[0m \u001b[0;32mimport\u001b[0m \u001b[0mAer\u001b[0m\u001b[0;34m\u001b[0m\u001b[0;34m\u001b[0m\u001b[0m\n\u001b[1;32m     27\u001b[0m \u001b[0;34m\u001b[0m\u001b[0m\n",
            "\u001b[0;32m/usr/local/lib/python3.11/dist-packages/qiskit/__init__.py\u001b[0m in \u001b[0;36m<module>\u001b[0;34m\u001b[0m\n\u001b[1;32m     34\u001b[0m     \u001b[0m_suppress_error\u001b[0m \u001b[0;34m=\u001b[0m \u001b[0mos\u001b[0m\u001b[0;34m.\u001b[0m\u001b[0menviron\u001b[0m\u001b[0;34m.\u001b[0m\u001b[0mget\u001b[0m\u001b[0;34m(\u001b[0m\u001b[0;34m\"QISKIT_SUPPRESS_1_0_IMPORT_ERROR\"\u001b[0m\u001b[0;34m,\u001b[0m \u001b[0;32mFalse\u001b[0m\u001b[0;34m)\u001b[0m \u001b[0;34m==\u001b[0m \u001b[0;34m\"1\"\u001b[0m\u001b[0;34m\u001b[0m\u001b[0;34m\u001b[0m\u001b[0m\n\u001b[1;32m     35\u001b[0m     \u001b[0;32mif\u001b[0m \u001b[0;32mnot\u001b[0m \u001b[0m_suppress_error\u001b[0m \u001b[0;32mand\u001b[0m \u001b[0m_has_tools\u001b[0m\u001b[0;34m:\u001b[0m\u001b[0;34m\u001b[0m\u001b[0;34m\u001b[0m\u001b[0m\n\u001b[0;32m---> 36\u001b[0;31m         raise ImportError(\n\u001b[0m\u001b[1;32m     37\u001b[0m             \u001b[0;34m\"Qiskit is installed in an invalid environment that has both Qiskit >=1.0\"\u001b[0m\u001b[0;34m\u001b[0m\u001b[0;34m\u001b[0m\u001b[0m\n\u001b[1;32m     38\u001b[0m             \u001b[0;34m\" and an earlier version.\"\u001b[0m\u001b[0;34m\u001b[0m\u001b[0;34m\u001b[0m\u001b[0m\n",
            "\u001b[0;31mImportError\u001b[0m: Qiskit is installed in an invalid environment that has both Qiskit >=1.0 and an earlier version. You should create a new virtual environment, and ensure that you do not mix dependencies between Qiskit <1.0 and >=1.0. Any packages that depend on 'qiskit-terra' are not compatible with Qiskit 1.0 and will need to be updated. Qiskit unfortunately cannot enforce this requirement during environment resolution. See https://qisk.it/packaging-1-0 for more detail.",
            "",
            "\u001b[0;31m---------------------------------------------------------------------------\u001b[0;32m\nNOTE: If your import is failing due to a missing package, you can\nmanually install dependencies using either !pip or !apt.\n\nTo view examples of installing some common dependencies, click the\n\"Open Examples\" button below.\n\u001b[0;31m---------------------------------------------------------------------------\u001b[0m\n"
          ],
          "errorDetails": {
            "actions": [
              {
                "action": "open_url",
                "actionText": "Open Examples",
                "url": "/notebooks/snippets/importing_libraries.ipynb"
              }
            ]
          }
        }
      ],
      "source": [
        "import numpy as np\n",
        "import seaborn as sns\n",
        "import pandas as pd\n",
        "import matplotlib.pyplot as plt\n",
        "\n",
        "#sklearn\n",
        "from sklearn.svm import SVC\n",
        "from sklearn.neural_network import MLPClassifier\n",
        "from sklearn.decomposition import PCA\n",
        "from sklearn.model_selection import train_test_split\n",
        "from sklearn.preprocessing import StandardScaler, MinMaxScaler\n",
        "from sklearn import metrics\n",
        "from sklearn.metrics import confusion_matrix\n",
        "#from sklearn.metrics import plot_confusion_matrix\n",
        "from sklearn.metrics import confusion_matrix, ConfusionMatrixDisplay\n",
        "from sklearn.metrics import roc_curve\n",
        "from sklearn.metrics import accuracy_score\n",
        "from sklearn.model_selection import KFold\n",
        "from sklearn.pipeline import make_pipeline\n",
        "from sklearn.ensemble import BaggingClassifier\n",
        "from sklearn.model_selection import cross_val_score\n",
        "\n",
        "#qiskit\n",
        "#from qiskit import *\n",
        "from qiskit import QuantumCircuit, ClassicalRegister, QuantumRegister\n",
        "from qiskit import Aer\n",
        "\n",
        "from qiskit.circuit import Parameter\n",
        "from qiskit.circuit.library import ZZFeatureMap, ZFeatureMap, TwoLocal, RealAmplitudes\n",
        "#from qiskit.utils import QuantumInstance, algorithm_globals\n",
        "from qiskit.utils import QuantumInstance\n",
        "from qiskit import algorithms\n",
        "\n",
        "from qiskit_machine_learning.algorithms import QSVC, NeuralNetworkClassifier\n",
        "from qiskit.aqua.algorithms import VQC\n",
        "from qiskit_machine_learning.kernels import QuantumKernel\n",
        "from qiskit.algorithms.optimizers import SPSA, L_BFGS_B, COBYLA\n",
        "from qiskit_machine_learning.neural_networks import CircuitQNN\n",
        "from qiskit_machine_learning.exceptions import QiskitMachineLearningError\n",
        "from IPython.display import clear_output\n",
        "from typing import Union\n",
        "\n",
        "import warnings\n",
        "warnings.filterwarnings('ignore')"
      ]
    },
    {
      "cell_type": "code",
      "execution_count": null,
      "metadata": {
        "id": "ZQgPY9MeOaH8"
      },
      "outputs": [],
      "source": [
        "data = pd.read_csv('Cleveland Dataset.csv')"
      ]
    },
    {
      "cell_type": "markdown",
      "metadata": {
        "id": "j8tuxrDTOaH8"
      },
      "source": [
        "## Feature selection"
      ]
    },
    {
      "cell_type": "code",
      "execution_count": null,
      "metadata": {
        "id": "R8737bYIOaH9"
      },
      "outputs": [],
      "source": [
        "from sklearn.feature_selection import RFE\n",
        "from sklearn.svm import SVC\n",
        "\n",
        "X = data.drop(['target'] ,axis=\"columns\")\n",
        "y = data['target']\n",
        "\n",
        "estimator = SVC(kernel=\"linear\")\n",
        "selector = RFE(estimator, n_features_to_select=6, step=1)\n",
        "selector = selector.fit(X, y)"
      ]
    },
    {
      "cell_type": "code",
      "execution_count": null,
      "metadata": {
        "id": "e-eSyNn4OaH-"
      },
      "outputs": [],
      "source": [
        "from operator import itemgetter\n",
        "features = X.columns.to_list()\n",
        "for x, y in (sorted(zip(selector.ranking_ , features), key=itemgetter(0))):\n",
        "    print(x, y)"
      ]
    },
    {
      "cell_type": "markdown",
      "metadata": {
        "id": "Oadf3cxsOaH-"
      },
      "source": [
        "# Classical classifiers"
      ]
    },
    {
      "cell_type": "markdown",
      "metadata": {
        "id": "BQYiJ7__OaH_"
      },
      "source": [
        "## SVM"
      ]
    },
    {
      "cell_type": "code",
      "execution_count": null,
      "metadata": {
        "id": "lmM3q-FCOaH_"
      },
      "outputs": [],
      "source": [
        "# classical SVM\n",
        "X = data[['ca','cp','thal','exang','slope']]\n",
        "y = data['target']\n",
        "\n",
        "X_train, X_test, y_train, y_test = train_test_split(X, y, test_size=0.20, random_state=42)\n",
        "\n",
        "# Create svm Classifier\n",
        "ClassifierSVM = SVC()\n",
        "\n",
        "# Train the model using the training set\n",
        "ClassifierSVM.fit(X_train, y_train)\n",
        "\n",
        "# Predict the response for test dataset\n",
        "y_pred = ClassifierSVM.predict(X_test)\n",
        "\n",
        "# Model Accuracy:\n",
        "print(\"Accuracy:\",metrics.accuracy_score(y_test, y_pred))"
      ]
    },
    {
      "cell_type": "markdown",
      "metadata": {
        "id": "F4I1_EStOaH_"
      },
      "source": [
        "### SVM performance"
      ]
    },
    {
      "cell_type": "code",
      "execution_count": null,
      "metadata": {
        "id": "WuFjrCmwOaH_"
      },
      "outputs": [],
      "source": [
        "# classification report of SVM\n",
        "expected_y  = y_test\n",
        "predicted_y = ClassifierSVM.predict(X_test)\n",
        "\n",
        "# print classification report and confusion matrix for svm classifier\n",
        "print(\"Classification report: \\n\", metrics.classification_report(expected_y, predicted_y))\n",
        "print(\"Confusion matrix: \\n\", metrics.confusion_matrix(expected_y, predicted_y))"
      ]
    },
    {
      "cell_type": "code",
      "execution_count": null,
      "metadata": {
        "id": "Qm4GsQAAOaIA"
      },
      "outputs": [],
      "source": [
        "# confusion matrix of SVM\n",
        "def cm_analysis(y_true, y_pred, labels, ymap=None, figsize=(5,4)):\n",
        "    if ymap is not None:\n",
        "        y_pred = [ymap[yi] for yi in y_pred]\n",
        "        y_true = [ymap[yi] for yi in y_true]\n",
        "        labels = [ymap[yi] for yi in labels]\n",
        "    cm = confusion_matrix(y_true, y_pred, labels=labels)\n",
        "    cm_sum = np.sum(cm, axis=1, keepdims=True)\n",
        "    cm_perc = cm / cm_sum.astype(float) * 100\n",
        "    annot = np.empty_like(cm).astype(str)\n",
        "    nrows, ncols = cm.shape\n",
        "    for i in range(nrows):\n",
        "        for j in range(ncols):\n",
        "            c = cm[i, j]\n",
        "            p = cm_perc[i, j]\n",
        "            if i == j:\n",
        "                s = cm_sum[i]\n",
        "                annot[i, j] = '%.1f%%\\n%d/%d' % (p, c, s)\n",
        "            elif c == 0:\n",
        "                annot[i, j] = ''\n",
        "            else:\n",
        "                annot[i, j] = '%.1f%%\\n%d' % (p, c)\n",
        "    cm = pd.DataFrame(cm, index=labels, columns=labels)\n",
        "    cm.index.name = 'Actual'\n",
        "    cm.columns.name = 'Predicted'\n",
        "    fig, ax = plt.subplots(figsize=figsize)\n",
        "    sns.heatmap(cm, annot=annot, fmt='', ax=ax)\n",
        "\n",
        "cm_analysis(y_test, predicted_y, labels=[0,1], ymap=None, figsize=(5,4))"
      ]
    },
    {
      "cell_type": "code",
      "execution_count": null,
      "metadata": {
        "id": "EmbPkGghOaIA"
      },
      "outputs": [],
      "source": [
        "# ROC curve of SVM\n",
        "plt.style.use('seaborn')\n",
        "\n",
        "def plot_roc_curve(fper, tper):\n",
        "    plt.plot(fper, tper, color='blue', label='ROC')\n",
        "    plt.plot([0, 1], [0, 1], color='green', linestyle='--')\n",
        "    plt.xlabel('False Positive Rate')\n",
        "    plt.ylabel('True Positive Rate')\n",
        "    plt.title('Receiver Operating Characteristic Curve')\n",
        "    plt.legend()\n",
        "    plt.show()\n",
        "\n",
        "fper, tper, thresholds = roc_curve(expected_y, predicted_y)\n",
        "plot_roc_curve(fper, tper)"
      ]
    },
    {
      "cell_type": "markdown",
      "metadata": {
        "id": "4arYl2ecOaIB"
      },
      "source": [
        "## ANN"
      ]
    },
    {
      "cell_type": "code",
      "execution_count": null,
      "metadata": {
        "id": "UeVAlPAAOaIB"
      },
      "outputs": [],
      "source": [
        "# classical QNN\n",
        "X = data[['ca','cp','thal','exang','slope']]\n",
        "y = data['target']\n",
        "\n",
        "X_train, X_test, y_train, y_test = train_test_split(X, y, test_size=0.20, random_state=42)\n",
        "\n",
        "model = MLPClassifier(max_iter=1000,  random_state=5)\n",
        "model = model.fit(X_train, y_train)\n",
        "y_pred = model.predict(X_test)\n",
        "print('Final prediction score: [%.8f]' % accuracy_score(y_test, y_pred))"
      ]
    },
    {
      "cell_type": "code",
      "execution_count": null,
      "metadata": {
        "id": "_bGH3OSvOaIB"
      },
      "outputs": [],
      "source": [
        "# classification report of ANN\n",
        "expected_y  = y_test\n",
        "predicted_y = model.predict(X_test)\n",
        "\n",
        "# print classification report and confusion matrix for the classifier\n",
        "print(\"Classification report: \\n\", metrics.classification_report(expected_y, predicted_y))\n",
        "print(\"Confusion matrix: \\n\", metrics.confusion_matrix(expected_y, predicted_y))"
      ]
    },
    {
      "cell_type": "code",
      "execution_count": null,
      "metadata": {
        "id": "Rh2_z6GsOaIC"
      },
      "outputs": [],
      "source": [
        "# confusion matrix of ANN\n",
        "def cm_analysis(y_true, y_pred, labels, ymap=None, figsize=(5,4)):\n",
        "    if ymap is not None:\n",
        "        y_pred = [ymap[yi] for yi in y_pred]\n",
        "        y_true = [ymap[yi] for yi in y_true]\n",
        "        labels = [ymap[yi] for yi in labels]\n",
        "    cm = confusion_matrix(y_true, y_pred, labels=labels)\n",
        "    cm_sum = np.sum(cm, axis=1, keepdims=True)\n",
        "    cm_perc = cm / cm_sum.astype(float) * 100\n",
        "    annot = np.empty_like(cm).astype(str)\n",
        "    nrows, ncols = cm.shape\n",
        "    for i in range(nrows):\n",
        "        for j in range(ncols):\n",
        "            c = cm[i, j]\n",
        "            p = cm_perc[i, j]\n",
        "            if i == j:\n",
        "                s = cm_sum[i]\n",
        "                annot[i, j] = '%.1f%%\\n%d/%d' % (p, c, s)\n",
        "            elif c == 0:\n",
        "                annot[i, j] = ''\n",
        "            else:\n",
        "                annot[i, j] = '%.1f%%\\n%d' % (p, c)\n",
        "    cm = pd.DataFrame(cm, index=labels, columns=labels)\n",
        "    cm.index.name = 'Actual'\n",
        "    cm.columns.name = 'Predicted'\n",
        "    fig, ax = plt.subplots(figsize=figsize)\n",
        "    sns.heatmap(cm, annot=annot, fmt='', ax=ax)\n",
        "\n",
        "cm_analysis(y_test, predicted_y, labels=[0,1], ymap=None, figsize=(5,4))"
      ]
    },
    {
      "cell_type": "code",
      "execution_count": null,
      "metadata": {
        "id": "cysgT-SpOaIC"
      },
      "outputs": [],
      "source": [
        "# ROC curve of ANN\n",
        "plt.style.use('seaborn')\n",
        "\n",
        "def plot_roc_curve(fper, tper):\n",
        "    plt.plot(fper, tper, color='blue', label='ROC')\n",
        "    plt.plot([0, 1], [0, 1], color='green', linestyle='--')\n",
        "    plt.xlabel('False Positive Rate')\n",
        "    plt.ylabel('True Positive Rate')\n",
        "    plt.title('Receiver Operating Characteristic Curve')\n",
        "    plt.legend()\n",
        "    plt.show()\n",
        "\n",
        "fper, tper, thresholds = roc_curve(expected_y, predicted_y)\n",
        "plot_roc_curve(fper, tper)"
      ]
    },
    {
      "cell_type": "markdown",
      "metadata": {
        "id": "NfpX8dHgOaIC"
      },
      "source": [
        "# Quantum classifiers"
      ]
    },
    {
      "cell_type": "markdown",
      "metadata": {
        "id": "kSsBjtAEOaID"
      },
      "source": [
        "   ## QSVC"
      ]
    },
    {
      "cell_type": "code",
      "execution_count": null,
      "metadata": {
        "id": "ldvPoEnHOaID"
      },
      "outputs": [],
      "source": [
        "X = data[['ca','cp','thal','exang','slope']]\n",
        "y = data['target']\n",
        "\n",
        "X_train, X_test, y_train, y_test = train_test_split(X, y, test_size=0.20, random_state=42)\n",
        "\n",
        "samples = np.append(X_train, X_test, axis=0)\n",
        "minmax_scaler = MinMaxScaler((0, 1)).fit(samples)\n",
        "X_train = minmax_scaler.transform(X_train)\n",
        "X_test = minmax_scaler.transform(X_test)"
      ]
    },
    {
      "cell_type": "code",
      "execution_count": null,
      "metadata": {
        "id": "bApZsEAyOaID"
      },
      "outputs": [],
      "source": [
        "# number of qubits is equal to the number of features\n",
        "num_qubits = 5\n",
        "# regularization parameter\n",
        "C = 1000"
      ]
    },
    {
      "cell_type": "code",
      "execution_count": null,
      "metadata": {
        "id": "mmkAUiwTOaID"
      },
      "outputs": [],
      "source": [
        "algorithm_globals.random_seed = 12345\n",
        "\n",
        "backend = QuantumInstance(\n",
        "    BasicAer.get_backend(\"statevector_simulator\"),\n",
        "    seed_simulator=algorithm_globals.random_seed,\n",
        "    seed_transpiler=algorithm_globals.random_seed,\n",
        ")\n",
        "\n",
        "feature_map = ZFeatureMap(feature_dimension=num_qubits, reps=2)\n",
        "qkernel = QuantumKernel(feature_map=feature_map, quantum_instance=backend)\n",
        "qsvc = QSVC(quantum_kernel=qkernel, C=C)"
      ]
    },
    {
      "cell_type": "code",
      "execution_count": null,
      "metadata": {
        "id": "TAAi-FUbOaID"
      },
      "outputs": [],
      "source": [
        "# training\n",
        "qsvc.fit(X_train,y_train)\n",
        "\n",
        "# testing\n",
        "qsvc_score = qsvc.score(X_test, y_test)\n",
        "print(f\"QSVC classification test score: {qsvc_score}\")"
      ]
    },
    {
      "cell_type": "markdown",
      "metadata": {
        "id": "Ro6-7dZqOaIE"
      },
      "source": [
        "### QSVC performance"
      ]
    },
    {
      "cell_type": "code",
      "execution_count": null,
      "metadata": {
        "id": "R1RdfcLZOaIE"
      },
      "outputs": [],
      "source": [
        "# classification report of QSVC\n",
        "expected_y  = y_test\n",
        "predicted_y = qsvc.predict(X_test)\n",
        "\n",
        "# print classification report and confusion matrix for the classifier\n",
        "print(\"Classification report: \\n\", metrics.classification_report(expected_y, predicted_y))\n",
        "print(\"Confusion matrix: \\n\", metrics.confusion_matrix(expected_y, predicted_y))"
      ]
    },
    {
      "cell_type": "code",
      "execution_count": null,
      "metadata": {
        "id": "Lykj_5GJOaIE"
      },
      "outputs": [],
      "source": [
        "# confusion matrix of QSVC\n",
        "def cm_analysis(y_true, y_pred, labels, ymap=None, figsize=(5,4)):\n",
        "    if ymap is not None:\n",
        "        y_pred = [ymap[yi] for yi in y_pred]\n",
        "        y_true = [ymap[yi] for yi in y_true]\n",
        "        labels = [ymap[yi] for yi in labels]\n",
        "    cm = confusion_matrix(y_true, y_pred, labels=labels)\n",
        "    cm_sum = np.sum(cm, axis=1, keepdims=True)\n",
        "    cm_perc = cm / cm_sum.astype(float) * 100\n",
        "    annot = np.empty_like(cm).astype(str)\n",
        "    nrows, ncols = cm.shape\n",
        "    for i in range(nrows):\n",
        "        for j in range(ncols):\n",
        "            c = cm[i, j]\n",
        "            p = cm_perc[i, j]\n",
        "            if i == j:\n",
        "                s = cm_sum[i]\n",
        "                annot[i, j] = '%.1f%%\\n%d/%d' % (p, c, s)\n",
        "            elif c == 0:\n",
        "                annot[i, j] = ''\n",
        "            else:\n",
        "                annot[i, j] = '%.1f%%\\n%d' % (p, c)\n",
        "    cm = pd.DataFrame(cm, index=labels, columns=labels)\n",
        "    cm.index.name = 'Actual'\n",
        "    cm.columns.name = 'Predicted'\n",
        "    fig, ax = plt.subplots(figsize=figsize)\n",
        "    sns.heatmap(cm, annot=annot, fmt='', ax=ax)\n",
        "\n",
        "cm_analysis(y_test, predicted_y, labels=[0,1], ymap=None, figsize=(5,4))"
      ]
    },
    {
      "cell_type": "code",
      "execution_count": null,
      "metadata": {
        "id": "T2H5uKAxOaIE"
      },
      "outputs": [],
      "source": [
        "# ROC curve of QSVC\n",
        "plt.style.use('seaborn')\n",
        "\n",
        "def plot_roc_curve(fper, tper):\n",
        "    plt.plot(fper, tper, color='blue', label='ROC')\n",
        "    plt.plot([0, 1], [0, 1], color='green', linestyle='--')\n",
        "    plt.xlabel('False Positive Rate')\n",
        "    plt.ylabel('True Positive Rate')\n",
        "    plt.title('Receiver Operating Characteristic Curve')\n",
        "    plt.legend()\n",
        "    plt.show()\n",
        "\n",
        "fper, tper, thresholds = roc_curve(expected_y, predicted_y)\n",
        "plot_roc_curve(fper, tper)"
      ]
    },
    {
      "cell_type": "markdown",
      "metadata": {
        "id": "pGDZJrsVOaIE"
      },
      "source": [
        "## QNN"
      ]
    },
    {
      "cell_type": "code",
      "execution_count": null,
      "metadata": {
        "id": "EH2PAzhkOaIE"
      },
      "outputs": [],
      "source": [
        "algorithm_globals.random_seed = 42\n",
        "quantum_instance = QuantumInstance(Aer.get_backend(\"aer_simulator\"), shots=1024)"
      ]
    },
    {
      "cell_type": "code",
      "execution_count": null,
      "metadata": {
        "id": "5-GuMITyOaIF"
      },
      "outputs": [],
      "source": [
        "X = data[['ca','cp','thal','exang','slope']]\n",
        "y = data['target']\n",
        "\n",
        "std_scaler = StandardScaler().fit(X)\n",
        "X = std_scaler.transform(X)\n",
        "\n",
        "pca = PCA(n_components=2).fit(X)\n",
        "X = pca.transform(X)\n",
        "\n",
        "minmax_scaler = MinMaxScaler((0, 1)).fit(X)\n",
        "X = minmax_scaler.transform(X)\n",
        "\n",
        "# for cross validation\n",
        "X_df = pd.DataFrame(X, columns = ['A','B'])\n",
        "\n",
        "num_inputs = 2"
      ]
    },
    {
      "cell_type": "code",
      "execution_count": null,
      "metadata": {
        "id": "zugSiiwuOaIF"
      },
      "outputs": [],
      "source": [
        "# callback function that draws a live plot when the .fit() method is called\n",
        "def callback_graph(weights, obj_func_eval):\n",
        "    clear_output(wait=True)\n",
        "    objective_func_vals.append(obj_func_eval)\n",
        "    plt.title(\"Objective function value against iteration\")\n",
        "    plt.xlabel(\"Iteration\")\n",
        "    plt.ylabel(\"Objective function value\")\n",
        "    plt.plot(range(len(objective_func_vals)), objective_func_vals)\n",
        "    plt.show()"
      ]
    },
    {
      "cell_type": "code",
      "execution_count": null,
      "metadata": {
        "id": "C4vx6LbrOaIF"
      },
      "outputs": [],
      "source": [
        "# Classification with a CircuitQNN\n",
        "# construct feature map\n",
        "feature_map = ZFeatureMap(num_inputs)\n",
        "\n",
        "# construct ansatz\n",
        "ansatz = RealAmplitudes(num_inputs, reps=2)\n",
        "\n",
        "# construct quantum circuit\n",
        "qc = QuantumCircuit(num_inputs)\n",
        "qc.append(feature_map, range(num_inputs))\n",
        "qc.append(ansatz, range(num_inputs))\n",
        "qc.decompose()"
      ]
    },
    {
      "cell_type": "code",
      "execution_count": null,
      "metadata": {
        "id": "I2NyjrSYOaIF"
      },
      "outputs": [],
      "source": [
        "# parity maps bitstrings to 0 or 1\n",
        "def parity(x):\n",
        "    return \"{:b}\".format(x).count(\"1\") % 2\n",
        "\n",
        "\n",
        "output_shape = 2  # corresponds to the number of classes, possible outcomes of the (parity) mapping"
      ]
    },
    {
      "cell_type": "code",
      "execution_count": null,
      "metadata": {
        "id": "3NtjHuE2OaIF"
      },
      "outputs": [],
      "source": [
        "# construct QNN\n",
        "circuit_qnn = CircuitQNN(\n",
        "    circuit=qc,\n",
        "    input_params=feature_map.parameters,\n",
        "    weight_params=ansatz.parameters,\n",
        "    interpret=parity,\n",
        "    output_shape=output_shape,\n",
        "    quantum_instance=quantum_instance,\n",
        ")"
      ]
    },
    {
      "cell_type": "code",
      "execution_count": null,
      "metadata": {
        "id": "l73soaH4OaIG"
      },
      "outputs": [],
      "source": [
        "# construct classifier\n",
        "circuit_classifier = NeuralNetworkClassifier(\n",
        "            neural_network=circuit_qnn, optimizer= L_BFGS_B(), loss='absolute_error', callback=callback_graph\n",
        ")"
      ]
    },
    {
      "cell_type": "code",
      "execution_count": null,
      "metadata": {
        "id": "OG9VAFKiOaIG"
      },
      "outputs": [],
      "source": [
        "# cross validation\n",
        "objective_func_vals = []\n",
        "plt.rcParams[\"figure.figsize\"] = (12, 6)\n",
        "\n",
        "kf = KFold(n_splits = 8, shuffle = True, random_state= 1)\n",
        "scores = []\n",
        "for i in range(8):\n",
        "    result = next(kf.split(X_df), None)\n",
        "    x_train = X_df.iloc[result[0]]\n",
        "    x_test = X_df.iloc[result[1]]\n",
        "    y_train = y.iloc[result[0]]\n",
        "    y_test = y.iloc[result[1]]\n",
        "    circuit_classifier.fit(x_train,y_train)\n",
        "    y_pred = circuit_classifier.predict(x_test)\n",
        "\n",
        "plt.rcParams[\"figure.figsize\"] = (6, 4)\n",
        "print('Final prediction score: [%.8f]' % accuracy_score(y_test, y_pred))"
      ]
    },
    {
      "cell_type": "markdown",
      "metadata": {
        "id": "Uq6XwCuDOaIG"
      },
      "source": [
        "### QNN performance"
      ]
    },
    {
      "cell_type": "code",
      "execution_count": null,
      "metadata": {
        "id": "cs5AXEIGOaIG"
      },
      "outputs": [],
      "source": [
        "# classification report of QNN\n",
        "expected_y  = y_test\n",
        "predicted_y = circuit_classifier.predict(x_test)\n",
        "\n",
        "# print classification report and confusion matrix for the classifier\n",
        "print(\"Classification report: \\n\", metrics.classification_report(expected_y, predicted_y))\n",
        "print(\"Confusion matrix: \\n\", metrics.confusion_matrix(expected_y, predicted_y))"
      ]
    },
    {
      "cell_type": "code",
      "execution_count": null,
      "metadata": {
        "id": "rXzzmZYuOaIG"
      },
      "outputs": [],
      "source": [
        "# confusion matrix of QNN\n",
        "def cm_analysis(y_true, y_pred, labels, ymap=None, figsize=(5,4)):\n",
        "    if ymap is not None:\n",
        "        y_pred = [ymap[yi] for yi in y_pred]\n",
        "        y_true = [ymap[yi] for yi in y_true]\n",
        "        labels = [ymap[yi] for yi in labels]\n",
        "    cm = confusion_matrix(y_true, y_pred, labels=labels)\n",
        "    cm_sum = np.sum(cm, axis=1, keepdims=True)\n",
        "    cm_perc = cm / cm_sum.astype(float) * 100\n",
        "    annot = np.empty_like(cm).astype(str)\n",
        "    nrows, ncols = cm.shape\n",
        "    for i in range(nrows):\n",
        "        for j in range(ncols):\n",
        "            c = cm[i, j]\n",
        "            p = cm_perc[i, j]\n",
        "            if i == j:\n",
        "                s = cm_sum[i]\n",
        "                annot[i, j] = '%.1f%%\\n%d/%d' % (p, c, s)\n",
        "            elif c == 0:\n",
        "                annot[i, j] = ''\n",
        "            else:\n",
        "                annot[i, j] = '%.1f%%\\n%d' % (p, c)\n",
        "    cm = pd.DataFrame(cm, index=labels, columns=labels)\n",
        "    cm.index.name = 'Actual'\n",
        "    cm.columns.name = 'Predicted'\n",
        "    fig, ax = plt.subplots(figsize=figsize)\n",
        "    sns.heatmap(cm, annot=annot, fmt='', ax=ax)\n",
        "\n",
        "cm_analysis(y_test, predicted_y, labels=[0,1], ymap=None, figsize=(5,4))"
      ]
    },
    {
      "cell_type": "code",
      "execution_count": null,
      "metadata": {
        "id": "t72inW_hOaIH"
      },
      "outputs": [],
      "source": [
        "# ROC curve of QNN\n",
        "plt.style.use('seaborn')\n",
        "\n",
        "def plot_roc_curve(fper, tper):\n",
        "    plt.plot(fper, tper, color='blue', label='ROC')\n",
        "    plt.plot([0, 1], [0, 1], color='green', linestyle='--')\n",
        "    plt.xlabel('False Positive Rate')\n",
        "    plt.ylabel('True Positive Rate')\n",
        "    plt.title('Receiver Operating Characteristic Curve')\n",
        "    plt.legend()\n",
        "    plt.show()\n",
        "\n",
        "fper, tper, thresholds = roc_curve(expected_y, predicted_y)\n",
        "plot_roc_curve(fper, tper)"
      ]
    },
    {
      "cell_type": "markdown",
      "metadata": {
        "id": "H6K7QS7_OaIH"
      },
      "source": [
        "## VQC"
      ]
    },
    {
      "cell_type": "code",
      "execution_count": null,
      "metadata": {
        "id": "SFXOJNCROaIH"
      },
      "outputs": [],
      "source": [
        "X = data.drop(['target','chol', 'trestbps','age'],axis=\"columns\")\n",
        "y = data['target']"
      ]
    },
    {
      "cell_type": "code",
      "execution_count": null,
      "metadata": {
        "id": "PPuyhtoIOaIH"
      },
      "outputs": [],
      "source": [
        "X_train, X_test, y_train, y_test = train_test_split(X, y, test_size=0.20, random_state=42)\n",
        "\n",
        "std_scaler = StandardScaler().fit(X_train)\n",
        "X_train = std_scaler.transform(X_train)\n",
        "X_test = std_scaler.transform(X_test)\n",
        "\n",
        "pca = PCA(n_components=2).fit(X_train)\n",
        "X_train = pca.transform(X_train)\n",
        "X_test = pca.transform(X_test)\n",
        "\n",
        "samples = np.append(X_train, X_test, axis=0)\n",
        "minmax_scaler = MinMaxScaler((0, 1)).fit(samples)\n",
        "X_train = minmax_scaler.transform(X_train)\n",
        "X_test = minmax_scaler.transform(X_test)\n",
        "\n",
        "labels = [0,1]\n",
        "training_input = {key: (X_train[y_train == k, :]) for k, key in enumerate(labels)}\n",
        "test_input = {key: (X_test[y_test == k, :]) for k, key in enumerate(labels)}"
      ]
    },
    {
      "cell_type": "code",
      "execution_count": null,
      "metadata": {
        "id": "MjYVuVY_OaIH"
      },
      "outputs": [],
      "source": [
        "feature_dim = 2\n",
        "random_seed = 10489\n",
        "shots = 1024\n",
        "backend = BasicAer.get_backend('statevector_simulator')\n",
        "optimizer = SPSA()\n",
        "optimizer.set_options(save_steps=1)\n",
        "feature_map = ZFeatureMap(feature_dimension=feature_dim, reps=2)\n",
        "var_form = TwoLocal(feature_dim, ['ry', 'rz'], 'cz', reps=3)\n",
        "vqc = VQC(optimizer, feature_map, var_form, training_input, test_input)\n",
        "quantum_instance = QuantumInstance(backend, shots=shots, seed_simulator=random_seed, seed_transpiler=random_seed)"
      ]
    },
    {
      "cell_type": "code",
      "execution_count": null,
      "metadata": {
        "id": "5ugCv4sHOaII"
      },
      "outputs": [],
      "source": [
        "result = vqc.run(quantum_instance)\n",
        "print(\"Quantum accuracy on test set: {0}%\".format(round(result['testing_accuracy']*100, 2)))"
      ]
    },
    {
      "cell_type": "markdown",
      "metadata": {
        "id": "uGfL5wRjOaII"
      },
      "source": [
        "### VQC performance"
      ]
    },
    {
      "cell_type": "code",
      "execution_count": null,
      "metadata": {
        "id": "xJQ0f2ydOaII"
      },
      "outputs": [],
      "source": [
        "# classification report of VQC\n",
        "expected_y  = y_test\n",
        "predicted_y = vqc.predict(X_test)\n",
        "\n",
        "# print classification report and confusion matrix for the classifier\n",
        "print(\"Classification report: \\n\", metrics.classification_report(expected_y, predicted_y))\n",
        "print(\"Confusion matrix: \\n\", metrics.confusion_matrix(expected_y, predicted_y))"
      ]
    },
    {
      "cell_type": "code",
      "execution_count": null,
      "metadata": {
        "id": "uRDNKL9jOaII"
      },
      "outputs": [],
      "source": [
        "# confusion matrix of VQC\n",
        "def cm_analysis(y_true, y_pred, labels, ymap=None, figsize=(5,4)):\n",
        "    if ymap is not None:\n",
        "        y_pred = [ymap[yi] for yi in y_pred]\n",
        "        y_true = [ymap[yi] for yi in y_true]\n",
        "        labels = [ymap[yi] for yi in labels]\n",
        "    cm = confusion_matrix(y_true, y_pred, labels=labels)\n",
        "    cm_sum = np.sum(cm, axis=1, keepdims=True)\n",
        "    cm_perc = cm / cm_sum.astype(float) * 100\n",
        "    annot = np.empty_like(cm).astype(str)\n",
        "    nrows, ncols = cm.shape\n",
        "    for i in range(nrows):\n",
        "        for j in range(ncols):\n",
        "            c = cm[i, j]\n",
        "            p = cm_perc[i, j]\n",
        "            if i == j:\n",
        "                s = cm_sum[i]\n",
        "                annot[i, j] = '%.1f%%\\n%d/%d' % (p, c, s)\n",
        "            elif c == 0:\n",
        "                annot[i, j] = ''\n",
        "            else:\n",
        "                annot[i, j] = '%.1f%%\\n%d' % (p, c)\n",
        "    cm = pd.DataFrame(cm, index=labels, columns=labels)\n",
        "    cm.index.name = 'Actual'\n",
        "    cm.columns.name = 'Predicted'\n",
        "    fig, ax = plt.subplots(figsize=figsize)\n",
        "    sns.heatmap(cm, annot=annot, fmt='', ax=ax)\n",
        "\n",
        "cm_analysis(y_test, predicted_y, labels=[0,1], ymap=None, figsize=(5,4))"
      ]
    },
    {
      "cell_type": "code",
      "execution_count": null,
      "metadata": {
        "id": "bS6Wrg-kOaIJ"
      },
      "outputs": [],
      "source": [
        "# ROC curve of VQC\n",
        "plt.style.use('seaborn')\n",
        "\n",
        "def plot_roc_curve(fper, tper):\n",
        "    plt.plot(fper, tper, color='blue', label='ROC')\n",
        "    plt.plot([0, 1], [0, 1], color='green', linestyle='--')\n",
        "    plt.xlabel('False Positive Rate')\n",
        "    plt.ylabel('True Positive Rate')\n",
        "    plt.title('Receiver Operating Characteristic Curve')\n",
        "    plt.legend()\n",
        "    plt.show()\n",
        "\n",
        "fper, tper, thresholds = roc_curve(expected_y, predicted_y)\n",
        "plot_roc_curve(fper, tper)"
      ]
    },
    {
      "cell_type": "markdown",
      "metadata": {
        "id": "AWb_UENPOaIJ"
      },
      "source": [
        "# Proposed model"
      ]
    },
    {
      "cell_type": "markdown",
      "metadata": {
        "id": "pk6I25SnOaIJ"
      },
      "source": [
        "## Bagging-QSVC"
      ]
    },
    {
      "cell_type": "code",
      "execution_count": null,
      "metadata": {
        "id": "u-xB1pGNOaIJ"
      },
      "outputs": [],
      "source": [
        "# Pipeline Estimator\n",
        "pipeline = make_pipeline(MinMaxScaler(), qsvc)\n",
        "\n",
        "# Instantiate the bagging classifier\n",
        "bgclassifier = BaggingClassifier(base_estimator=pipeline, n_estimators=100,\n",
        "                                 random_state=1, n_jobs=-1)\n",
        "\n",
        "# Fit the bagging classifier\n",
        "bgclassifier.fit(X_train, y_train)\n",
        "\n",
        "# Model scores on test and training data\n",
        "print('Model test Score: %.4f, ' %bgclassifier.score(X_test, y_test),\n",
        "      'Model training Score: %.4f' %bgclassifier.score(X_train, y_train))"
      ]
    },
    {
      "cell_type": "markdown",
      "metadata": {
        "id": "mMRjRn3DOaIJ"
      },
      "source": [
        "### Bagging-QSVC performace"
      ]
    },
    {
      "cell_type": "code",
      "execution_count": null,
      "metadata": {
        "id": "HyJn2M19OaIK"
      },
      "outputs": [],
      "source": [
        "# classification report of Bagging-QSVC\n",
        "expected_y  = y_test\n",
        "predicted_y = bgclassifier.predict(X_test)\n",
        "\n",
        "# print classification report and confusion matrix for the classifier\n",
        "print(\"Classification report: \\n\", metrics.classification_report(expected_y, predicted_y))\n",
        "print(\"Confusion matrix: \\n\", metrics.confusion_matrix(expected_y, predicted_y))"
      ]
    },
    {
      "cell_type": "code",
      "execution_count": null,
      "metadata": {
        "id": "jn-LAaz0OaIK"
      },
      "outputs": [],
      "source": [
        "# confusion matrix of Bagging-QSVC\n",
        "def cm_analysis(y_true, y_pred, labels, ymap=None, figsize=(5,4)):\n",
        "    if ymap is not None:\n",
        "        y_pred = [ymap[yi] for yi in y_pred]\n",
        "        y_true = [ymap[yi] for yi in y_true]\n",
        "        labels = [ymap[yi] for yi in labels]\n",
        "    cm = confusion_matrix(y_true, y_pred, labels=labels)\n",
        "    cm_sum = np.sum(cm, axis=1, keepdims=True)\n",
        "    cm_perc = cm / cm_sum.astype(float) * 100\n",
        "    annot = np.empty_like(cm).astype(str)\n",
        "    nrows, ncols = cm.shape\n",
        "    for i in range(nrows):\n",
        "        for j in range(ncols):\n",
        "            c = cm[i, j]\n",
        "            p = cm_perc[i, j]\n",
        "            if i == j:\n",
        "                s = cm_sum[i]\n",
        "                annot[i, j] = '%.1f%%\\n%d/%d' % (p, c, s)\n",
        "            elif c == 0:\n",
        "                annot[i, j] = ''\n",
        "            else:\n",
        "                annot[i, j] = '%.1f%%\\n%d' % (p, c)\n",
        "    cm = pd.DataFrame(cm, index=labels, columns=labels)\n",
        "    cm.index.name = 'Actual'\n",
        "    cm.columns.name = 'Predicted'\n",
        "    fig, ax = plt.subplots(figsize=figsize)\n",
        "    sns.heatmap(cm, annot=annot, fmt='', ax=ax)\n",
        "\n",
        "cm_analysis(y_test, predicted_y, labels=[0,1], ymap=None, figsize=(5,4))"
      ]
    },
    {
      "cell_type": "code",
      "execution_count": null,
      "metadata": {
        "id": "GGWbrjmXOaIK"
      },
      "outputs": [],
      "source": [
        "# ROC curve of Bagging-QSVC\n",
        "from sklearn.metrics import roc_curve\n",
        "plt.style.use('seaborn')\n",
        "\n",
        "def plot_roc_curve(fper, tper):\n",
        "    plt.plot(fper, tper, color='blue', label='ROC')\n",
        "    plt.plot([0, 1], [0, 1], color='green', linestyle='--')\n",
        "    plt.xlabel('False Positive Rate')\n",
        "    plt.ylabel('True Positive Rate')\n",
        "    plt.title('Receiver Operating Characteristic Curve')\n",
        "    plt.legend()\n",
        "    plt.show()\n",
        "\n",
        "fper, tper, thresholds = roc_curve(expected_y, predicted_y)\n",
        "plot_roc_curve(fper, tper)"
      ]
    }
  ],
  "metadata": {
    "kernelspec": {
      "display_name": "Python 3",
      "language": "python",
      "name": "python3"
    },
    "language_info": {
      "codemirror_mode": {
        "name": "ipython",
        "version": 3
      },
      "file_extension": ".py",
      "mimetype": "text/x-python",
      "name": "python",
      "nbconvert_exporter": "python",
      "pygments_lexer": "ipython3",
      "version": "3.8.5"
    },
    "colab": {
      "provenance": []
    }
  },
  "nbformat": 4,
  "nbformat_minor": 0
}