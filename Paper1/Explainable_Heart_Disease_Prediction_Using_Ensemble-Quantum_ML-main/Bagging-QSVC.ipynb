{
 "cells": [
  {
   "cell_type": "code",
   "execution_count": 27,
   "metadata": {},
   "outputs": [
    {
     "ename": "ImportError",
     "evalue": "cannot import name 'QuantumInstance' from 'qiskit.utils' (D:\\ProgramData\\anaconda3\\Lib\\site-packages\\qiskit\\utils\\__init__.py)",
     "output_type": "error",
     "traceback": [
      "\u001b[1;31m---------------------------------------------------------------------------\u001b[0m",
      "\u001b[1;31mImportError\u001b[0m                               Traceback (most recent call last)",
      "Cell \u001b[1;32mIn[27], line 26\u001b[0m\n\u001b[0;32m     24\u001b[0m \u001b[38;5;28;01mfrom\u001b[39;00m \u001b[38;5;21;01mqiskit\u001b[39;00m\u001b[38;5;21;01m.\u001b[39;00m\u001b[38;5;21;01mcircuit\u001b[39;00m \u001b[38;5;28;01mimport\u001b[39;00m Parameter\n\u001b[0;32m     25\u001b[0m \u001b[38;5;28;01mfrom\u001b[39;00m \u001b[38;5;21;01mqiskit\u001b[39;00m\u001b[38;5;21;01m.\u001b[39;00m\u001b[38;5;21;01mcircuit\u001b[39;00m\u001b[38;5;21;01m.\u001b[39;00m\u001b[38;5;21;01mlibrary\u001b[39;00m \u001b[38;5;28;01mimport\u001b[39;00m ZZFeatureMap, ZFeatureMap, TwoLocal, RealAmplitudes\n\u001b[1;32m---> 26\u001b[0m \u001b[38;5;28;01mfrom\u001b[39;00m \u001b[38;5;21;01mqiskit\u001b[39;00m\u001b[38;5;21;01m.\u001b[39;00m\u001b[38;5;21;01mutils\u001b[39;00m \u001b[38;5;28;01mimport\u001b[39;00m QuantumInstance, algorithm_globals\n\u001b[0;32m     27\u001b[0m \u001b[38;5;28;01mfrom\u001b[39;00m \u001b[38;5;21;01mqiskit_machine_learning\u001b[39;00m\u001b[38;5;21;01m.\u001b[39;00m\u001b[38;5;21;01malgorithms\u001b[39;00m \u001b[38;5;28;01mimport\u001b[39;00m QSVC, NeuralNetworkClassifier \n\u001b[0;32m     28\u001b[0m \u001b[38;5;28;01mfrom\u001b[39;00m \u001b[38;5;21;01mqiskit\u001b[39;00m\u001b[38;5;21;01m.\u001b[39;00m\u001b[38;5;21;01maqua\u001b[39;00m\u001b[38;5;21;01m.\u001b[39;00m\u001b[38;5;21;01malgorithms\u001b[39;00m \u001b[38;5;28;01mimport\u001b[39;00m VQC\n",
      "\u001b[1;31mImportError\u001b[0m: cannot import name 'QuantumInstance' from 'qiskit.utils' (D:\\ProgramData\\anaconda3\\Lib\\site-packages\\qiskit\\utils\\__init__.py)"
     ]
    }
   ],
   "source": [
    "import numpy as np\n",
    "import seaborn as sns\n",
    "import pandas as pd\n",
    "import matplotlib.pyplot as plt\n",
    "\n",
    "#sklearn\n",
    "from sklearn.svm import SVC \n",
    "from sklearn.neural_network import MLPClassifier\n",
    "from sklearn.decomposition import PCA\n",
    "from sklearn.model_selection import train_test_split\n",
    "from sklearn.preprocessing import StandardScaler, MinMaxScaler\n",
    "from sklearn import metrics\n",
    "from sklearn.metrics import confusion_matrix\n",
    "from sklearn.metrics import ConfusionMatrixDisplay\n",
    "from sklearn.metrics import roc_curve\n",
    "from sklearn.metrics import accuracy_score\n",
    "from sklearn.model_selection import KFold\n",
    "from sklearn.pipeline import make_pipeline\n",
    "from sklearn.ensemble import BaggingClassifier\n",
    "from sklearn.model_selection import cross_val_score\n",
    "\n",
    "#qiskit\n",
    "from qiskit import *\n",
    "from qiskit.circuit import Parameter\n",
    "from qiskit.circuit.library import ZZFeatureMap, ZFeatureMap, TwoLocal, RealAmplitudes\n",
    "from qiskit.utils import QuantumInstance, algorithm_globals\n",
    "from qiskit_machine_learning.algorithms import QSVC, NeuralNetworkClassifier \n",
    "from qiskit.aqua.algorithms import VQC\n",
    "from qiskit_machine_learning.kernels import QuantumKernel\n",
    "from qiskit.algorithms.optimizers import SPSA, L_BFGS_B, COBYLA\n",
    "from qiskit_machine_learning.neural_networks import CircuitQNN\n",
    "from qiskit_machine_learning.exceptions import QiskitMachineLearningError\n",
    "from IPython.display import clear_output\n",
    "from typing import Union\n",
    "\n",
    "import warnings\n",
    "warnings.filterwarnings('ignore')"
   ]
  },
  {
   "cell_type": "code",
   "execution_count": null,
   "metadata": {},
   "outputs": [],
   "source": [
    "data = pd.read_csv('Cleveland Dataset.csv')"
   ]
  },
  {
   "cell_type": "markdown",
   "metadata": {},
   "source": [
    "## Feature selection"
   ]
  },
  {
   "cell_type": "code",
   "execution_count": null,
   "metadata": {},
   "outputs": [],
   "source": [
    "from sklearn.feature_selection import RFE\n",
    "from sklearn.svm import SVC\n",
    "\n",
    "X = data.drop(['target'] ,axis=\"columns\")\n",
    "y = data['target']\n",
    "\n",
    "estimator = SVC(kernel=\"linear\")\n",
    "selector = RFE(estimator, n_features_to_select=6, step=1)\n",
    "selector = selector.fit(X, y)"
   ]
  },
  {
   "cell_type": "code",
   "execution_count": null,
   "metadata": {},
   "outputs": [],
   "source": [
    "from operator import itemgetter\n",
    "features = X.columns.to_list()\n",
    "for x, y in (sorted(zip(selector.ranking_ , features), key=itemgetter(0))):\n",
    "    print(x, y)"
   ]
  },
  {
   "cell_type": "markdown",
   "metadata": {},
   "source": [
    "# Classical classifiers "
   ]
  },
  {
   "cell_type": "markdown",
   "metadata": {},
   "source": [
    "## SVM"
   ]
  },
  {
   "cell_type": "code",
   "execution_count": null,
   "metadata": {},
   "outputs": [],
   "source": [
    "# classical SVM\n",
    "X = data[['ca','cp','thal','exang','slope']]\n",
    "y = data['target']\n",
    "\n",
    "X_train, X_test, y_train, y_test = train_test_split(X, y, test_size=0.20, random_state=42)\n",
    "\n",
    "# Create svm Classifier\n",
    "ClassifierSVM = SVC()\n",
    "\n",
    "# Train the model using the training set\n",
    "ClassifierSVM.fit(X_train, y_train)\n",
    "\n",
    "# Predict the response for test dataset\n",
    "y_pred = ClassifierSVM.predict(X_test)\n",
    "\n",
    "# Model Accuracy: \n",
    "print(\"Accuracy:\",metrics.accuracy_score(y_test, y_pred))"
   ]
  },
  {
   "cell_type": "markdown",
   "metadata": {},
   "source": [
    "### SVM performance"
   ]
  },
  {
   "cell_type": "code",
   "execution_count": null,
   "metadata": {},
   "outputs": [],
   "source": [
    "# classification report of SVM\n",
    "expected_y  = y_test\n",
    "predicted_y = ClassifierSVM.predict(X_test) \n",
    "\n",
    "# print classification report and confusion matrix for svm classifier\n",
    "print(\"Classification report: \\n\", metrics.classification_report(expected_y, predicted_y))\n",
    "print(\"Confusion matrix: \\n\", metrics.confusion_matrix(expected_y, predicted_y))"
   ]
  },
  {
   "cell_type": "code",
   "execution_count": null,
   "metadata": {},
   "outputs": [],
   "source": [
    "# confusion matrix of SVM\n",
    "def cm_analysis(y_true, y_pred, labels, ymap=None, figsize=(5,4)): \n",
    "    if ymap is not None: \n",
    "        y_pred = [ymap[yi] for yi in y_pred] \n",
    "        y_true = [ymap[yi] for yi in y_true] \n",
    "        labels = [ymap[yi] for yi in labels]\n",
    "    cm = confusion_matrix(y_true, y_pred, labels=labels) \n",
    "    cm_sum = np.sum(cm, axis=1, keepdims=True) \n",
    "    cm_perc = cm / cm_sum.astype(float) * 100 \n",
    "    annot = np.empty_like(cm).astype(str) \n",
    "    nrows, ncols = cm.shape \n",
    "    for i in range(nrows): \n",
    "        for j in range(ncols): \n",
    "            c = cm[i, j] \n",
    "            p = cm_perc[i, j] \n",
    "            if i == j: \n",
    "                s = cm_sum[i] \n",
    "                annot[i, j] = '%.1f%%\\n%d/%d' % (p, c, s) \n",
    "            elif c == 0: \n",
    "                annot[i, j] = '' \n",
    "            else: \n",
    "                annot[i, j] = '%.1f%%\\n%d' % (p, c)\n",
    "    cm = pd.DataFrame(cm, index=labels, columns=labels) \n",
    "    cm.index.name = 'Actual' \n",
    "    cm.columns.name = 'Predicted' \n",
    "    fig, ax = plt.subplots(figsize=figsize) \n",
    "    sns.heatmap(cm, annot=annot, fmt='', ax=ax) \n",
    "    \n",
    "cm_analysis(y_test, predicted_y, labels=[0,1], ymap=None, figsize=(5,4)) "
   ]
  },
  {
   "cell_type": "code",
   "execution_count": null,
   "metadata": {},
   "outputs": [],
   "source": [
    "# ROC curve of SVM\n",
    "plt.style.use('seaborn')\n",
    "\n",
    "def plot_roc_curve(fper, tper):\n",
    "    plt.plot(fper, tper, color='blue', label='ROC')\n",
    "    plt.plot([0, 1], [0, 1], color='green', linestyle='--')\n",
    "    plt.xlabel('False Positive Rate')\n",
    "    plt.ylabel('True Positive Rate')\n",
    "    plt.title('Receiver Operating Characteristic Curve')\n",
    "    plt.legend()\n",
    "    plt.show()\n",
    "    \n",
    "fper, tper, thresholds = roc_curve(expected_y, predicted_y)\n",
    "plot_roc_curve(fper, tper)"
   ]
  },
  {
   "cell_type": "markdown",
   "metadata": {},
   "source": [
    "## ANN"
   ]
  },
  {
   "cell_type": "code",
   "execution_count": null,
   "metadata": {},
   "outputs": [],
   "source": [
    "# classical QNN \n",
    "X = data[['ca','cp','thal','exang','slope']]\n",
    "y = data['target']\n",
    "\n",
    "X_train, X_test, y_train, y_test = train_test_split(X, y, test_size=0.20, random_state=42)\n",
    "\n",
    "model = MLPClassifier(max_iter=1000,  random_state=5)\n",
    "model = model.fit(X_train, y_train)\n",
    "y_pred = model.predict(X_test)\n",
    "print('Final prediction score: [%.8f]' % accuracy_score(y_test, y_pred))"
   ]
  },
  {
   "cell_type": "code",
   "execution_count": null,
   "metadata": {},
   "outputs": [],
   "source": [
    "# classification report of ANN\n",
    "expected_y  = y_test\n",
    "predicted_y = model.predict(X_test) \n",
    "\n",
    "# print classification report and confusion matrix for the classifier\n",
    "print(\"Classification report: \\n\", metrics.classification_report(expected_y, predicted_y))\n",
    "print(\"Confusion matrix: \\n\", metrics.confusion_matrix(expected_y, predicted_y))"
   ]
  },
  {
   "cell_type": "code",
   "execution_count": null,
   "metadata": {},
   "outputs": [],
   "source": [
    "# confusion matrix of ANN\n",
    "def cm_analysis(y_true, y_pred, labels, ymap=None, figsize=(5,4)): \n",
    "    if ymap is not None: \n",
    "        y_pred = [ymap[yi] for yi in y_pred] \n",
    "        y_true = [ymap[yi] for yi in y_true] \n",
    "        labels = [ymap[yi] for yi in labels]\n",
    "    cm = confusion_matrix(y_true, y_pred, labels=labels) \n",
    "    cm_sum = np.sum(cm, axis=1, keepdims=True) \n",
    "    cm_perc = cm / cm_sum.astype(float) * 100 \n",
    "    annot = np.empty_like(cm).astype(str) \n",
    "    nrows, ncols = cm.shape \n",
    "    for i in range(nrows): \n",
    "        for j in range(ncols): \n",
    "            c = cm[i, j] \n",
    "            p = cm_perc[i, j] \n",
    "            if i == j: \n",
    "                s = cm_sum[i] \n",
    "                annot[i, j] = '%.1f%%\\n%d/%d' % (p, c, s) \n",
    "            elif c == 0: \n",
    "                annot[i, j] = '' \n",
    "            else: \n",
    "                annot[i, j] = '%.1f%%\\n%d' % (p, c)\n",
    "    cm = pd.DataFrame(cm, index=labels, columns=labels) \n",
    "    cm.index.name = 'Actual' \n",
    "    cm.columns.name = 'Predicted' \n",
    "    fig, ax = plt.subplots(figsize=figsize) \n",
    "    sns.heatmap(cm, annot=annot, fmt='', ax=ax) \n",
    "    \n",
    "cm_analysis(y_test, predicted_y, labels=[0,1], ymap=None, figsize=(5,4)) "
   ]
  },
  {
   "cell_type": "code",
   "execution_count": null,
   "metadata": {},
   "outputs": [],
   "source": [
    "# ROC curve of ANN\n",
    "plt.style.use('seaborn')\n",
    "\n",
    "def plot_roc_curve(fper, tper):\n",
    "    plt.plot(fper, tper, color='blue', label='ROC')\n",
    "    plt.plot([0, 1], [0, 1], color='green', linestyle='--')\n",
    "    plt.xlabel('False Positive Rate')\n",
    "    plt.ylabel('True Positive Rate')\n",
    "    plt.title('Receiver Operating Characteristic Curve')\n",
    "    plt.legend()\n",
    "    plt.show()\n",
    "    \n",
    "fper, tper, thresholds = roc_curve(expected_y, predicted_y)\n",
    "plot_roc_curve(fper, tper)"
   ]
  },
  {
   "cell_type": "markdown",
   "metadata": {},
   "source": [
    "# Quantum classifiers "
   ]
  },
  {
   "cell_type": "markdown",
   "metadata": {},
   "source": [
    "   ## QSVC"
   ]
  },
  {
   "cell_type": "code",
   "execution_count": null,
   "metadata": {},
   "outputs": [],
   "source": [
    "X = data[['ca','cp','thal','exang','slope']]\n",
    "y = data['target']\n",
    "\n",
    "X_train, X_test, y_train, y_test = train_test_split(X, y, test_size=0.20, random_state=42)\n",
    "\n",
    "samples = np.append(X_train, X_test, axis=0)\n",
    "minmax_scaler = MinMaxScaler((0, 1)).fit(samples)\n",
    "X_train = minmax_scaler.transform(X_train)\n",
    "X_test = minmax_scaler.transform(X_test)"
   ]
  },
  {
   "cell_type": "code",
   "execution_count": null,
   "metadata": {},
   "outputs": [],
   "source": [
    "# number of qubits is equal to the number of features\n",
    "num_qubits = 5\n",
    "# regularization parameter\n",
    "C = 1000"
   ]
  },
  {
   "cell_type": "code",
   "execution_count": null,
   "metadata": {},
   "outputs": [],
   "source": [
    "algorithm_globals.random_seed = 12345\n",
    "\n",
    "backend = QuantumInstance(\n",
    "    BasicAer.get_backend(\"statevector_simulator\"),\n",
    "    seed_simulator=algorithm_globals.random_seed,\n",
    "    seed_transpiler=algorithm_globals.random_seed,\n",
    ")\n",
    "\n",
    "feature_map = ZFeatureMap(feature_dimension=num_qubits, reps=2)\n",
    "qkernel = QuantumKernel(feature_map=feature_map, quantum_instance=backend)\n",
    "qsvc = QSVC(quantum_kernel=qkernel, C=C)"
   ]
  },
  {
   "cell_type": "code",
   "execution_count": null,
   "metadata": {},
   "outputs": [],
   "source": [
    "# training\n",
    "qsvc.fit(X_train,y_train)\n",
    "\n",
    "# testing\n",
    "qsvc_score = qsvc.score(X_test, y_test)\n",
    "print(f\"QSVC classification test score: {qsvc_score}\")"
   ]
  },
  {
   "cell_type": "markdown",
   "metadata": {},
   "source": [
    "### QSVC performance"
   ]
  },
  {
   "cell_type": "code",
   "execution_count": null,
   "metadata": {},
   "outputs": [],
   "source": [
    "# classification report of QSVC\n",
    "expected_y  = y_test\n",
    "predicted_y = qsvc.predict(X_test) \n",
    "\n",
    "# print classification report and confusion matrix for the classifier\n",
    "print(\"Classification report: \\n\", metrics.classification_report(expected_y, predicted_y))\n",
    "print(\"Confusion matrix: \\n\", metrics.confusion_matrix(expected_y, predicted_y))"
   ]
  },
  {
   "cell_type": "code",
   "execution_count": null,
   "metadata": {},
   "outputs": [],
   "source": [
    "# confusion matrix of QSVC\n",
    "def cm_analysis(y_true, y_pred, labels, ymap=None, figsize=(5,4)): \n",
    "    if ymap is not None: \n",
    "        y_pred = [ymap[yi] for yi in y_pred] \n",
    "        y_true = [ymap[yi] for yi in y_true] \n",
    "        labels = [ymap[yi] for yi in labels]\n",
    "    cm = confusion_matrix(y_true, y_pred, labels=labels) \n",
    "    cm_sum = np.sum(cm, axis=1, keepdims=True) \n",
    "    cm_perc = cm / cm_sum.astype(float) * 100 \n",
    "    annot = np.empty_like(cm).astype(str) \n",
    "    nrows, ncols = cm.shape \n",
    "    for i in range(nrows): \n",
    "        for j in range(ncols): \n",
    "            c = cm[i, j] \n",
    "            p = cm_perc[i, j] \n",
    "            if i == j: \n",
    "                s = cm_sum[i] \n",
    "                annot[i, j] = '%.1f%%\\n%d/%d' % (p, c, s) \n",
    "            elif c == 0: \n",
    "                annot[i, j] = '' \n",
    "            else: \n",
    "                annot[i, j] = '%.1f%%\\n%d' % (p, c)\n",
    "    cm = pd.DataFrame(cm, index=labels, columns=labels) \n",
    "    cm.index.name = 'Actual' \n",
    "    cm.columns.name = 'Predicted' \n",
    "    fig, ax = plt.subplots(figsize=figsize) \n",
    "    sns.heatmap(cm, annot=annot, fmt='', ax=ax) \n",
    "    \n",
    "cm_analysis(y_test, predicted_y, labels=[0,1], ymap=None, figsize=(5,4)) "
   ]
  },
  {
   "cell_type": "code",
   "execution_count": null,
   "metadata": {},
   "outputs": [],
   "source": [
    "# ROC curve of QSVC\n",
    "plt.style.use('seaborn')\n",
    "\n",
    "def plot_roc_curve(fper, tper):\n",
    "    plt.plot(fper, tper, color='blue', label='ROC')\n",
    "    plt.plot([0, 1], [0, 1], color='green', linestyle='--')\n",
    "    plt.xlabel('False Positive Rate')\n",
    "    plt.ylabel('True Positive Rate')\n",
    "    plt.title('Receiver Operating Characteristic Curve')\n",
    "    plt.legend()\n",
    "    plt.show()\n",
    "    \n",
    "fper, tper, thresholds = roc_curve(expected_y, predicted_y)\n",
    "plot_roc_curve(fper, tper)"
   ]
  },
  {
   "cell_type": "markdown",
   "metadata": {},
   "source": [
    "## QNN"
   ]
  },
  {
   "cell_type": "code",
   "execution_count": null,
   "metadata": {},
   "outputs": [],
   "source": [
    "algorithm_globals.random_seed = 42\n",
    "quantum_instance = QuantumInstance(Aer.get_backend(\"aer_simulator\"), shots=1024)"
   ]
  },
  {
   "cell_type": "code",
   "execution_count": null,
   "metadata": {},
   "outputs": [],
   "source": [
    "X = data[['ca','cp','thal','exang','slope']]\n",
    "y = data['target']\n",
    "\n",
    "std_scaler = StandardScaler().fit(X)\n",
    "X = std_scaler.transform(X)\n",
    "    \n",
    "pca = PCA(n_components=2).fit(X)\n",
    "X = pca.transform(X)\n",
    "\n",
    "minmax_scaler = MinMaxScaler((0, 1)).fit(X)\n",
    "X = minmax_scaler.transform(X)\n",
    "\n",
    "# for cross validation\n",
    "X_df = pd.DataFrame(X, columns = ['A','B'])\n",
    "\n",
    "num_inputs = 2"
   ]
  },
  {
   "cell_type": "code",
   "execution_count": null,
   "metadata": {},
   "outputs": [],
   "source": [
    "# callback function that draws a live plot when the .fit() method is called\n",
    "def callback_graph(weights, obj_func_eval):\n",
    "    clear_output(wait=True)\n",
    "    objective_func_vals.append(obj_func_eval)\n",
    "    plt.title(\"Objective function value against iteration\")\n",
    "    plt.xlabel(\"Iteration\")\n",
    "    plt.ylabel(\"Objective function value\")\n",
    "    plt.plot(range(len(objective_func_vals)), objective_func_vals)\n",
    "    plt.show()"
   ]
  },
  {
   "cell_type": "code",
   "execution_count": null,
   "metadata": {},
   "outputs": [],
   "source": [
    "# Classification with a CircuitQNN\n",
    "# construct feature map\n",
    "feature_map = ZFeatureMap(num_inputs)\n",
    "\n",
    "# construct ansatz\n",
    "ansatz = RealAmplitudes(num_inputs, reps=2) \n",
    "\n",
    "# construct quantum circuit\n",
    "qc = QuantumCircuit(num_inputs)\n",
    "qc.append(feature_map, range(num_inputs))\n",
    "qc.append(ansatz, range(num_inputs))\n",
    "qc.decompose()"
   ]
  },
  {
   "cell_type": "code",
   "execution_count": null,
   "metadata": {},
   "outputs": [],
   "source": [
    "# parity maps bitstrings to 0 or 1\n",
    "def parity(x):\n",
    "    return \"{:b}\".format(x).count(\"1\") % 2\n",
    "\n",
    "\n",
    "output_shape = 2  # corresponds to the number of classes, possible outcomes of the (parity) mapping"
   ]
  },
  {
   "cell_type": "code",
   "execution_count": null,
   "metadata": {},
   "outputs": [],
   "source": [
    "# construct QNN\n",
    "circuit_qnn = CircuitQNN(\n",
    "    circuit=qc,\n",
    "    input_params=feature_map.parameters,\n",
    "    weight_params=ansatz.parameters,\n",
    "    interpret=parity,\n",
    "    output_shape=output_shape,\n",
    "    quantum_instance=quantum_instance,\n",
    ")"
   ]
  },
  {
   "cell_type": "code",
   "execution_count": null,
   "metadata": {},
   "outputs": [],
   "source": [
    "# construct classifier\n",
    "circuit_classifier = NeuralNetworkClassifier(\n",
    "            neural_network=circuit_qnn, optimizer= L_BFGS_B(), loss='absolute_error', callback=callback_graph\n",
    ")"
   ]
  },
  {
   "cell_type": "code",
   "execution_count": null,
   "metadata": {},
   "outputs": [],
   "source": [
    "# cross validation\n",
    "objective_func_vals = []\n",
    "plt.rcParams[\"figure.figsize\"] = (12, 6)\n",
    "\n",
    "kf = KFold(n_splits = 8, shuffle = True, random_state= 1)\n",
    "scores = []\n",
    "for i in range(8):\n",
    "    result = next(kf.split(X_df), None)\n",
    "    x_train = X_df.iloc[result[0]]\n",
    "    x_test = X_df.iloc[result[1]]\n",
    "    y_train = y.iloc[result[0]]\n",
    "    y_test = y.iloc[result[1]]\n",
    "    circuit_classifier.fit(x_train,y_train)\n",
    "    y_pred = circuit_classifier.predict(x_test)\n",
    "    \n",
    "plt.rcParams[\"figure.figsize\"] = (6, 4)\n",
    "print('Final prediction score: [%.8f]' % accuracy_score(y_test, y_pred))"
   ]
  },
  {
   "cell_type": "markdown",
   "metadata": {},
   "source": [
    "### QNN performance"
   ]
  },
  {
   "cell_type": "code",
   "execution_count": null,
   "metadata": {},
   "outputs": [],
   "source": [
    "# classification report of QNN\n",
    "expected_y  = y_test\n",
    "predicted_y = circuit_classifier.predict(x_test) \n",
    "\n",
    "# print classification report and confusion matrix for the classifier\n",
    "print(\"Classification report: \\n\", metrics.classification_report(expected_y, predicted_y))\n",
    "print(\"Confusion matrix: \\n\", metrics.confusion_matrix(expected_y, predicted_y))"
   ]
  },
  {
   "cell_type": "code",
   "execution_count": null,
   "metadata": {},
   "outputs": [],
   "source": [
    "# confusion matrix of QNN\n",
    "def cm_analysis(y_true, y_pred, labels, ymap=None, figsize=(5,4)): \n",
    "    if ymap is not None: \n",
    "        y_pred = [ymap[yi] for yi in y_pred] \n",
    "        y_true = [ymap[yi] for yi in y_true] \n",
    "        labels = [ymap[yi] for yi in labels]\n",
    "    cm = confusion_matrix(y_true, y_pred, labels=labels) \n",
    "    cm_sum = np.sum(cm, axis=1, keepdims=True) \n",
    "    cm_perc = cm / cm_sum.astype(float) * 100 \n",
    "    annot = np.empty_like(cm).astype(str) \n",
    "    nrows, ncols = cm.shape \n",
    "    for i in range(nrows): \n",
    "        for j in range(ncols): \n",
    "            c = cm[i, j] \n",
    "            p = cm_perc[i, j] \n",
    "            if i == j: \n",
    "                s = cm_sum[i] \n",
    "                annot[i, j] = '%.1f%%\\n%d/%d' % (p, c, s) \n",
    "            elif c == 0: \n",
    "                annot[i, j] = '' \n",
    "            else: \n",
    "                annot[i, j] = '%.1f%%\\n%d' % (p, c)\n",
    "    cm = pd.DataFrame(cm, index=labels, columns=labels) \n",
    "    cm.index.name = 'Actual' \n",
    "    cm.columns.name = 'Predicted' \n",
    "    fig, ax = plt.subplots(figsize=figsize) \n",
    "    sns.heatmap(cm, annot=annot, fmt='', ax=ax) \n",
    "    \n",
    "cm_analysis(y_test, predicted_y, labels=[0,1], ymap=None, figsize=(5,4)) "
   ]
  },
  {
   "cell_type": "code",
   "execution_count": null,
   "metadata": {},
   "outputs": [],
   "source": [
    "# ROC curve of QNN\n",
    "plt.style.use('seaborn')\n",
    "\n",
    "def plot_roc_curve(fper, tper):\n",
    "    plt.plot(fper, tper, color='blue', label='ROC')\n",
    "    plt.plot([0, 1], [0, 1], color='green', linestyle='--')\n",
    "    plt.xlabel('False Positive Rate')\n",
    "    plt.ylabel('True Positive Rate')\n",
    "    plt.title('Receiver Operating Characteristic Curve')\n",
    "    plt.legend()\n",
    "    plt.show()\n",
    "    \n",
    "fper, tper, thresholds = roc_curve(expected_y, predicted_y)\n",
    "plot_roc_curve(fper, tper)"
   ]
  },
  {
   "cell_type": "markdown",
   "metadata": {},
   "source": [
    "## VQC"
   ]
  },
  {
   "cell_type": "code",
   "execution_count": null,
   "metadata": {},
   "outputs": [],
   "source": [
    "X = data.drop(['target','chol', 'trestbps','age'],axis=\"columns\")\n",
    "y = data['target']"
   ]
  },
  {
   "cell_type": "code",
   "execution_count": null,
   "metadata": {},
   "outputs": [],
   "source": [
    "X_train, X_test, y_train, y_test = train_test_split(X, y, test_size=0.20, random_state=42)\n",
    "\n",
    "std_scaler = StandardScaler().fit(X_train)\n",
    "X_train = std_scaler.transform(X_train)\n",
    "X_test = std_scaler.transform(X_test)\n",
    "    \n",
    "pca = PCA(n_components=2).fit(X_train)\n",
    "X_train = pca.transform(X_train)\n",
    "X_test = pca.transform(X_test)\n",
    "\n",
    "samples = np.append(X_train, X_test, axis=0)\n",
    "minmax_scaler = MinMaxScaler((0, 1)).fit(samples)\n",
    "X_train = minmax_scaler.transform(X_train)\n",
    "X_test = minmax_scaler.transform(X_test)\n",
    "\n",
    "labels = [0,1]\n",
    "training_input = {key: (X_train[y_train == k, :]) for k, key in enumerate(labels)}\n",
    "test_input = {key: (X_test[y_test == k, :]) for k, key in enumerate(labels)}"
   ]
  },
  {
   "cell_type": "code",
   "execution_count": null,
   "metadata": {},
   "outputs": [],
   "source": [
    "feature_dim = 2\n",
    "random_seed = 10489\n",
    "shots = 1024\n",
    "backend = BasicAer.get_backend('statevector_simulator')\n",
    "optimizer = SPSA()\n",
    "optimizer.set_options(save_steps=1)\n",
    "feature_map = ZFeatureMap(feature_dimension=feature_dim, reps=2)\n",
    "var_form = TwoLocal(feature_dim, ['ry', 'rz'], 'cz', reps=3)\n",
    "vqc = VQC(optimizer, feature_map, var_form, training_input, test_input)\n",
    "quantum_instance = QuantumInstance(backend, shots=shots, seed_simulator=random_seed, seed_transpiler=random_seed)"
   ]
  },
  {
   "cell_type": "code",
   "execution_count": null,
   "metadata": {},
   "outputs": [],
   "source": [
    "result = vqc.run(quantum_instance)\n",
    "print(\"Quantum accuracy on test set: {0}%\".format(round(result['testing_accuracy']*100, 2)))"
   ]
  },
  {
   "cell_type": "markdown",
   "metadata": {},
   "source": [
    "### VQC performance"
   ]
  },
  {
   "cell_type": "code",
   "execution_count": null,
   "metadata": {},
   "outputs": [],
   "source": [
    "# classification report of VQC\n",
    "expected_y  = y_test\n",
    "predicted_y = vqc.predict(X_test)\n",
    "\n",
    "# print classification report and confusion matrix for the classifier\n",
    "print(\"Classification report: \\n\", metrics.classification_report(expected_y, predicted_y))\n",
    "print(\"Confusion matrix: \\n\", metrics.confusion_matrix(expected_y, predicted_y))"
   ]
  },
  {
   "cell_type": "code",
   "execution_count": null,
   "metadata": {},
   "outputs": [],
   "source": [
    "# confusion matrix of VQC\n",
    "def cm_analysis(y_true, y_pred, labels, ymap=None, figsize=(5,4)): \n",
    "    if ymap is not None: \n",
    "        y_pred = [ymap[yi] for yi in y_pred] \n",
    "        y_true = [ymap[yi] for yi in y_true] \n",
    "        labels = [ymap[yi] for yi in labels]\n",
    "    cm = confusion_matrix(y_true, y_pred, labels=labels) \n",
    "    cm_sum = np.sum(cm, axis=1, keepdims=True) \n",
    "    cm_perc = cm / cm_sum.astype(float) * 100 \n",
    "    annot = np.empty_like(cm).astype(str) \n",
    "    nrows, ncols = cm.shape \n",
    "    for i in range(nrows): \n",
    "        for j in range(ncols): \n",
    "            c = cm[i, j] \n",
    "            p = cm_perc[i, j] \n",
    "            if i == j: \n",
    "                s = cm_sum[i] \n",
    "                annot[i, j] = '%.1f%%\\n%d/%d' % (p, c, s) \n",
    "            elif c == 0: \n",
    "                annot[i, j] = '' \n",
    "            else: \n",
    "                annot[i, j] = '%.1f%%\\n%d' % (p, c)\n",
    "    cm = pd.DataFrame(cm, index=labels, columns=labels) \n",
    "    cm.index.name = 'Actual' \n",
    "    cm.columns.name = 'Predicted' \n",
    "    fig, ax = plt.subplots(figsize=figsize) \n",
    "    sns.heatmap(cm, annot=annot, fmt='', ax=ax) \n",
    "    \n",
    "cm_analysis(y_test, predicted_y, labels=[0,1], ymap=None, figsize=(5,4)) "
   ]
  },
  {
   "cell_type": "code",
   "execution_count": null,
   "metadata": {},
   "outputs": [],
   "source": [
    "# ROC curve of VQC\n",
    "plt.style.use('seaborn')\n",
    "\n",
    "def plot_roc_curve(fper, tper):\n",
    "    plt.plot(fper, tper, color='blue', label='ROC')\n",
    "    plt.plot([0, 1], [0, 1], color='green', linestyle='--')\n",
    "    plt.xlabel('False Positive Rate')\n",
    "    plt.ylabel('True Positive Rate')\n",
    "    plt.title('Receiver Operating Characteristic Curve')\n",
    "    plt.legend()\n",
    "    plt.show()\n",
    "    \n",
    "fper, tper, thresholds = roc_curve(expected_y, predicted_y)\n",
    "plot_roc_curve(fper, tper)"
   ]
  },
  {
   "cell_type": "markdown",
   "metadata": {},
   "source": [
    "# Proposed model "
   ]
  },
  {
   "cell_type": "markdown",
   "metadata": {},
   "source": [
    "## Bagging-QSVC"
   ]
  },
  {
   "cell_type": "code",
   "execution_count": null,
   "metadata": {},
   "outputs": [],
   "source": [
    "# Pipeline Estimator\n",
    "pipeline = make_pipeline(MinMaxScaler(), qsvc)\n",
    "\n",
    "# Instantiate the bagging classifier\n",
    "bgclassifier = BaggingClassifier(base_estimator=pipeline, n_estimators=100, \n",
    "                                 random_state=1, n_jobs=-1)\n",
    "\n",
    "# Fit the bagging classifier\n",
    "bgclassifier.fit(X_train, y_train)\n",
    "\n",
    "# Model scores on test and training data\n",
    "print('Model test Score: %.4f, ' %bgclassifier.score(X_test, y_test),\n",
    "      'Model training Score: %.4f' %bgclassifier.score(X_train, y_train))"
   ]
  },
  {
   "cell_type": "markdown",
   "metadata": {},
   "source": [
    "### Bagging-QSVC performace"
   ]
  },
  {
   "cell_type": "code",
   "execution_count": null,
   "metadata": {},
   "outputs": [],
   "source": [
    "# classification report of Bagging-QSVC\n",
    "expected_y  = y_test\n",
    "predicted_y = bgclassifier.predict(X_test) \n",
    "\n",
    "# print classification report and confusion matrix for the classifier\n",
    "print(\"Classification report: \\n\", metrics.classification_report(expected_y, predicted_y))\n",
    "print(\"Confusion matrix: \\n\", metrics.confusion_matrix(expected_y, predicted_y))"
   ]
  },
  {
   "cell_type": "code",
   "execution_count": null,
   "metadata": {},
   "outputs": [],
   "source": [
    "# confusion matrix of Bagging-QSVC\n",
    "def cm_analysis(y_true, y_pred, labels, ymap=None, figsize=(5,4)): \n",
    "    if ymap is not None: \n",
    "        y_pred = [ymap[yi] for yi in y_pred] \n",
    "        y_true = [ymap[yi] for yi in y_true] \n",
    "        labels = [ymap[yi] for yi in labels]\n",
    "    cm = confusion_matrix(y_true, y_pred, labels=labels) \n",
    "    cm_sum = np.sum(cm, axis=1, keepdims=True) \n",
    "    cm_perc = cm / cm_sum.astype(float) * 100 \n",
    "    annot = np.empty_like(cm).astype(str) \n",
    "    nrows, ncols = cm.shape \n",
    "    for i in range(nrows): \n",
    "        for j in range(ncols): \n",
    "            c = cm[i, j] \n",
    "            p = cm_perc[i, j] \n",
    "            if i == j: \n",
    "                s = cm_sum[i] \n",
    "                annot[i, j] = '%.1f%%\\n%d/%d' % (p, c, s) \n",
    "            elif c == 0: \n",
    "                annot[i, j] = '' \n",
    "            else: \n",
    "                annot[i, j] = '%.1f%%\\n%d' % (p, c)\n",
    "    cm = pd.DataFrame(cm, index=labels, columns=labels) \n",
    "    cm.index.name = 'Actual' \n",
    "    cm.columns.name = 'Predicted' \n",
    "    fig, ax = plt.subplots(figsize=figsize) \n",
    "    sns.heatmap(cm, annot=annot, fmt='', ax=ax) \n",
    "    \n",
    "cm_analysis(y_test, predicted_y, labels=[0,1], ymap=None, figsize=(5,4)) "
   ]
  },
  {
   "cell_type": "code",
   "execution_count": null,
   "metadata": {},
   "outputs": [],
   "source": [
    "# ROC curve of Bagging-QSVC\n",
    "from sklearn.metrics import roc_curve\n",
    "plt.style.use('seaborn')\n",
    "\n",
    "def plot_roc_curve(fper, tper):\n",
    "    plt.plot(fper, tper, color='blue', label='ROC')\n",
    "    plt.plot([0, 1], [0, 1], color='green', linestyle='--')\n",
    "    plt.xlabel('False Positive Rate')\n",
    "    plt.ylabel('True Positive Rate')\n",
    "    plt.title('Receiver Operating Characteristic Curve')\n",
    "    plt.legend()\n",
    "    plt.show()\n",
    "    \n",
    "fper, tper, thresholds = roc_curve(expected_y, predicted_y)\n",
    "plot_roc_curve(fper, tper)"
   ]
  }
 ],
 "metadata": {
  "kernelspec": {
   "display_name": "Python 3 (ipykernel)",
   "language": "python",
   "name": "python3"
  },
  "language_info": {
   "codemirror_mode": {
    "name": "ipython",
    "version": 3
   },
   "file_extension": ".py",
   "mimetype": "text/x-python",
   "name": "python",
   "nbconvert_exporter": "python",
   "pygments_lexer": "ipython3",
   "version": "3.12.4"
  }
 },
 "nbformat": 4,
 "nbformat_minor": 4
}
